{
 "cells": [
  {
   "cell_type": "markdown",
   "id": "80555581-1574-47e6-be35-98c0e066e7cf",
   "metadata": {},
   "source": [
    "## 2024 SAT Suite Annual Report Virginia Data Analysis"
   ]
  },
  {
   "cell_type": "markdown",
   "id": "0b6b84a3-5078-409a-bb6c-5e717bf6254b",
   "metadata": {},
   "source": [
    "**Data Source:** https://reports.collegeboard.org/media/pdf/2024-virginia-sat-suite-of-assessments-annual-report-ADA.pdf"
   ]
  },
  {
   "cell_type": "markdown",
   "id": "d17c0fec-3335-4fa6-8dbb-a0d12df61dd8",
   "metadata": {},
   "source": [
    "<img src=\"pg7_screenshot.png\" alt=\"Screenshot of page 7 of above linked report.\" width=\"700\"/>"
   ]
  },
  {
   "cell_type": "code",
   "execution_count": 4,
   "id": "cd706776-43ad-464e-b104-18352b463f13",
   "metadata": {},
   "outputs": [
    {
     "data": {
      "application/vnd.jupyter.widget-view+json": {
       "model_id": "00c6add581d34fca9a88d836037e071a",
       "version_major": 2,
       "version_minor": 0
      },
      "text/plain": [
       "interactive(children=(IntSlider(value=400, description='Min Score:', max=800, min=200, step=10), IntSlider(val…"
      ]
     },
     "metadata": {},
     "output_type": "display_data"
    }
   ],
   "source": [
    "from interactive_sat_scatterplot import *"
   ]
  }
 ],
 "metadata": {
  "kernelspec": {
   "display_name": "Python 3 (ipykernel)",
   "language": "python",
   "name": "python3"
  },
  "language_info": {
   "codemirror_mode": {
    "name": "ipython",
    "version": 3
   },
   "file_extension": ".py",
   "mimetype": "text/x-python",
   "name": "python",
   "nbconvert_exporter": "python",
   "pygments_lexer": "ipython3",
   "version": "3.11.5"
  }
 },
 "nbformat": 4,
 "nbformat_minor": 5
}
